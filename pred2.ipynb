{
 "cells": [
  {
   "cell_type": "code",
   "execution_count": 22,
   "metadata": {},
   "outputs": [],
   "source": [
    "import pandas as pd\n",
    "import numpy as np\n",
    "from sklearn.linear_model import LinearRegression\n",
    "from sklearn.model_selection import train_test_split\n",
    "\n",
    "reg = LinearRegression()\n",
    "\n",
    "uri = \"Dados/WINJ20_5min1Mes.csv\"\n",
    "df = pd.read_csv(uri) # data frame\n",
    "\n",
    "df.head()\n",
    "\n",
    "saida = df['Fechamento'].to_numpy()\n",
    "entrada = df['Mínimo'].to_numpy()\n",
    "\n",
    ""
   ]
  },
  {
   "cell_type": "code",
   "execution_count": 23,
   "metadata": {},
   "outputs": [],
   "source": [
    "candlesBehind = 20\n",
    "\n",
    "features = entrada[:candlesBehind]\n",
    "target = saida[candlesBehind]\n",
    "\n",
    "for i in range(1, saida.size - candlesBehind - candlesBehind):\n",
    "    start = i + candlesBehind\n",
    "    end = start + candlesBehind\n",
    "    features = np.vstack((features, entrada[start:end]))\n",
    "    target = np.vstack((target, saida[end]))\n",
    ""
   ]
  },
  {
   "cell_type": "code",
   "execution_count": 24,
   "metadata": {
    "tags": [
     "outputPrepend",
     "outputPrepend"
    ]
   },
   "outputs": [],
   "source": [
    "X_train, X_test, y_train, y_test = train_test_split(features, target, test_size=0.1, shuffle=False)\n",
    "\n",
    "model = reg.fit(X_train, y_train)\n",
    "\n",
    "score = reg.score(X_test, y_test)\n",
    "    "
   ]
  },
  {
   "cell_type": "code",
   "execution_count": 25,
   "metadata": {},
   "outputs": [
    {
     "output_type": "stream",
     "name": "stdout",
     "text": "score:  0.9767460752746373\n"
    }
   ],
   "source": [
    "print('score: ', score)"
   ]
  },
  {
   "cell_type": "code",
   "execution_count": 26,
   "metadata": {},
   "outputs": [],
   "source": [
    "y_pred = reg.predict(X_test)"
   ]
  },
  {
   "cell_type": "code",
   "execution_count": 27,
   "metadata": {},
   "outputs": [],
   "source": [
    "from sklearn.metrics import mean_squared_error\n",
    "from sklearn.metrics import explained_variance_score\n",
    "\n",
    "rmse = mean_squared_error(y_test, y_pred)**(1/2)\n",
    "var_score = explained_variance_score(y_test, y_pred)"
   ]
  },
  {
   "cell_type": "code",
   "execution_count": 28,
   "metadata": {},
   "outputs": [
    {
     "output_type": "stream",
     "name": "stdout",
     "text": "erro total medio:  118.56942264804186\n\nraiz do erro quadratico médio:  190.47823835152886\n\nvariancia score:  0.9769332140013417\n"
    }
   ],
   "source": [
    "print(\"erro total medio: \", np.mean(abs(y_pred-y_test)))\n",
    "print()\n",
    "print(\"raiz do erro quadratico médio: \", rmse)\n",
    "print()\n",
    "print(\"variancia score: \", var_score)"
   ]
  }
 ],
 "metadata": {
  "kernelspec": {
   "display_name": "Python 3",
   "language": "python",
   "name": "python3"
  },
  "language_info": {
   "codemirror_mode": {
    "name": "ipython",
    "version": 3
   },
   "file_extension": ".py",
   "mimetype": "text/x-python",
   "name": "python",
   "nbconvert_exporter": "python",
   "pygments_lexer": "ipython3",
   "version": "3.7.6-final"
  }
 },
 "nbformat": 4,
 "nbformat_minor": 4
}