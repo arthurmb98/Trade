{
 "cells": [
  {
   "cell_type": "code",
   "execution_count": 1,
   "metadata": {},
   "outputs": [],
   "source": [
    "import pandas as pd\n",
    "import numpy as np\n",
    "from sklearn.linear_model import LinearRegression\n",
    "from sklearn.model_selection import train_test_split\n",
    "from sklearn.metrics import mean_squared_error\n",
    "from sklearn.metrics import explained_variance_score\n",
    "\n",
    "\n",
    "uri = \"Dados/WINJ20_5min1Mes.csv\"\n",
    "df = pd.read_csv(uri) # data frame\n",
    "\n",
    "df.head()\n",
    "\n",
    "abertura = df['Abertura'].to_numpy()\n",
    "maximo = df['Máximo'].to_numpy()\n",
    "minimo = df['Mínimo'].to_numpy()\n",
    "fechamento = df['Fechamento'].to_numpy()\n",
    ""
   ]
  },
  {
   "cell_type": "code",
   "execution_count": 2,
   "metadata": {},
   "outputs": [],
   "source": [
    "def fit_model_lr(candlesBehind, entrada, saida):\n",
    "    reg = LinearRegression()\n",
    "\n",
    "    features = entrada[:candlesBehind]\n",
    "    target = saida[candlesBehind:]\n",
    "\n",
    "    for i in range(1, saida.size - candlesBehind):\n",
    "        end = i + candlesBehind\n",
    "        features = np.vstack((features, entrada[i:end]))\n",
    "\n",
    "    X_train, X_test, y_train, y_test = train_test_split(features, target, test_size=0.1, shuffle=False)\n",
    "\n",
    "    model = reg.fit(X_train, y_train)\n",
    "\n",
    "    score = reg.score(X_test, y_test)\n",
    "\n",
    "    y_pred = reg.predict(X_test)\n",
    "\n",
    "    print('score: ', score)\n",
    "    print()\n",
    "\n",
    "    rmse = mean_squared_error(y_test, y_pred)**(1/2)\n",
    "    var_score = explained_variance_score(y_test, y_pred)\n",
    "\n",
    "\n",
    "    print(\"erro total medio: \", np.mean(abs(y_pred-y_test)))\n",
    "    print()\n",
    "    print(\"raiz do erro quadratico médio: \", rmse)\n",
    "    print()\n",
    "    print(\"variancia score: \", var_score)\n",
    "    print()\n",
    "\n",
    "    return reg"
   ]
  },
  {
   "cell_type": "code",
   "execution_count": 3,
   "metadata": {
    "tags": [
     "outputPrepend",
     "outputPrepend"
    ]
   },
   "outputs": [
    {
     "output_type": "stream",
     "name": "stdout",
     "text": "score:  0.9893602770755614\n\nerro total medio:  31.508009640020482\n\nraiz do erro quadratico médio:  129.06308919228758\n\nvariancia score:  0.9899429312578004\n\n"
    }
   ],
   "source": [
    "\n",
    "model = fit_model_lr(20, abertura, fechamento)\n",
    ""
   ]
  },
  {
   "cell_type": "code",
   "execution_count": 32,
   "metadata": {},
   "outputs": [
    {
     "output_type": "stream",
     "name": "stdout",
     "text": "score:  0.9768355056966909\n"
    }
   ],
   "source": []
  },
  {
   "cell_type": "code",
   "execution_count": 33,
   "metadata": {},
   "outputs": [],
   "source": []
  },
  {
   "cell_type": "code",
   "execution_count": 3,
   "metadata": {},
   "outputs": [],
   "source": [
    "\n",
    ""
   ]
  },
  {
   "cell_type": "code",
   "execution_count": 35,
   "metadata": {},
   "outputs": [
    {
     "output_type": "stream",
     "name": "stdout",
     "text": "erro total medio:  118.93473592659562\n\nraiz do erro quadratico médio:  190.43567456304692\n\nvariancia score:  0.977064747594831\n"
    }
   ],
   "source": []
  }
 ],
 "metadata": {
  "kernelspec": {
   "display_name": "Python 3",
   "language": "python",
   "name": "python3"
  },
  "language_info": {
   "codemirror_mode": {
    "name": "ipython",
    "version": 3
   },
   "file_extension": ".py",
   "mimetype": "text/x-python",
   "name": "python",
   "nbconvert_exporter": "python",
   "pygments_lexer": "ipython3",
   "version": "3.7.6-final"
  }
 },
 "nbformat": 4,
 "nbformat_minor": 4
}