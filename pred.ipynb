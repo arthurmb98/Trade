{
 "cells": [
  {
   "cell_type": "code",
   "execution_count": 1,
   "metadata": {},
   "outputs": [],
   "source": [
    "import pandas as pd\n",
    "import numpy as np\n",
    "from sklearn.linear_model import LinearRegression\n",
    "from sklearn.metrics import mean_squared_error\n",
    "from sklearn.metrics import explained_variance_score\n",
    "\n",
    "\n",
    "uri = \"Dados/WINJ20_5min1Mes.csv\"\n",
    "df = pd.read_csv(uri) # data frame\n",
    "\n",
    "df.head()\n",
    "\n",
    "saida = df['Fechamento'].to_numpy().reshape(-1, 1)\n",
    "entrada = df[['Abertura', 'Máximo', 'Mínimo']].to_numpy()\n",
    "\n",
    ""
   ]
  },
  {
   "cell_type": "code",
   "execution_count": 2,
   "metadata": {},
   "outputs": [],
   "source": [
    "n = 2360\n",
    "\n",
    "\n",
    "limit = -round(n*0.1)\n",
    "\n",
    "\n",
    "len = saida.size\n",
    "\n",
    "split = len/n\n",
    "\n",
    "erroTotal = 0\n",
    "\n",
    "saidaSplitted = np.array_split(saida, split)\n",
    "entradaSplitted = np.array_split(entrada, split)"
   ]
  },
  {
   "cell_type": "code",
   "execution_count": 3,
   "metadata": {
    "tags": [
     "outputPrepend",
     "outputPrepend"
    ]
   },
   "outputs": [
    {
     "output_type": "stream",
     "name": "stdout",
     "text": "erro: 85.01044298430455\nraiz do erro quadratico medio: 111.29322768910033\nvar score: 0.9920778914787569\n\n\n"
    }
   ],
   "source": [
    "for (saida, entrada) in zip(saidaSplitted, entradaSplitted):\n",
    "    reg = LinearRegression().fit(entrada[:limit], saida[:limit])\n",
    "    pred = reg.predict(entrada[limit:])\n",
    "\n",
    "    erro = np.mean(abs(pred - saida[limit:]))\n",
    "    erro_quad_medio = mean_squared_error(saida[limit:], pred)**(1/2)\n",
    "    var_score = explained_variance_score(saida[limit:], pred)\n",
    "\n",
    "    print('erro:',  erro)\n",
    "    print('raiz do erro quadratico medio:',  erro_quad_medio)\n",
    "    print('var score:',  var_score)\n",
    "    print()\n",
    "    print()\n",
    "\n",
    "    erroTotal += erro"
   ]
  },
  {
   "cell_type": "code",
   "execution_count": 4,
   "metadata": {},
   "outputs": [
    {
     "output_type": "stream",
     "name": "stdout",
     "text": "erro médio : 85.01044298430455\n"
    }
   ],
   "source": [
    "print('erro médio :', erroTotal/split)"
   ]
  }
 ],
 "metadata": {
  "kernelspec": {
   "display_name": "Python 3",
   "language": "python",
   "name": "python3"
  },
  "language_info": {
   "codemirror_mode": {
    "name": "ipython",
    "version": 3
   },
   "file_extension": ".py",
   "mimetype": "text/x-python",
   "name": "python",
   "nbconvert_exporter": "python",
   "pygments_lexer": "ipython3",
   "version": "3.7.6-final"
  }
 },
 "nbformat": 4,
 "nbformat_minor": 4
}